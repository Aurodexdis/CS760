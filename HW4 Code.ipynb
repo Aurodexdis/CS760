{
 "cells": [
  {
   "cell_type": "markdown",
   "metadata": {},
   "source": [
    "## Section 3 - Language Identification with Naive Bayes"
   ]
  },
  {
   "cell_type": "code",
   "execution_count": 1,
   "metadata": {},
   "outputs": [],
   "source": [
    "import math\n",
    "import numpy as np\n",
    "import pandas as pd\n",
    "import string\n",
    "import random\n",
    "from collections import Counter\n",
    "pd.set_option('display.max_rows', 10000) \n",
    "pd.set_option('display.max_columns', 10000)"
   ]
  },
  {
   "cell_type": "markdown",
   "metadata": {},
   "source": [
    "### Naive Bayes Classifier"
   ]
  },
  {
   "cell_type": "code",
   "execution_count": 2,
   "metadata": {},
   "outputs": [],
   "source": [
    "class NaiveBayesClassifier():\n",
    "    def __init__(self):\n",
    "        self.prior_pr_dict = dict()\n",
    "        self.conditional_pr_dict = dict()\n",
    "        self.log_pred_conditional_pr_dict = dict()\n",
    "        self.log_pred_posterior_pr_dict = dict()\n",
    "        self.acceptable_chars = []\n",
    "        self.languages = []\n",
    "\n",
    "    def train(self, data, characters, languages, alpha, K_L, K_S):\n",
    "\n",
    "        self.languages = languages\n",
    "        self.acceptable_chars = characters\n",
    "\n",
    "        for lang in languages:\n",
    "            total = 0\n",
    "            for i in range(0,len(data)):\n",
    "                if data[i]['y'] == lang:\n",
    "                    total += 1\n",
    "            self.prior_pr_dict[lang] = (total+alpha)/(len(data)+(K_L*alpha))\n",
    "\n",
    "        for lang in languages:\n",
    "            char_dict = dict()\n",
    "            for char in characters:\n",
    "                num_sum = 0\n",
    "                denom_sum = 0\n",
    "                for i in range(0,len(data)):\n",
    "                    if data[i]['y'] == lang:\n",
    "                        denom_sum += data[i]['numchars']\n",
    "                        for j in range(0,data[i]['numchars']):\n",
    "                            if data[i]['x'][j] == char:\n",
    "                                num_sum += 1\n",
    "                char_dict[char] = (num_sum+alpha)/(denom_sum+(K_S*alpha))\n",
    "            self.conditional_pr_dict[lang] = char_dict\n",
    "\n",
    "    def pred(self, sample):        \n",
    "        for lang in self.languages:\n",
    "            log_pred_conditional_pr = 0\n",
    "            for char in self.acceptable_chars:\n",
    "                log_pred_conditional_pr += (sample[char]*math.log(self.conditional_pr_dict[lang][char]))\n",
    "            self.log_pred_conditional_pr_dict[lang] = log_pred_conditional_pr\n",
    "\n",
    "        for lang in self.languages:\n",
    "            self.log_pred_posterior_pr_dict[lang] = self.log_pred_conditional_pr_dict[lang] + math.log(self.prior_pr_dict[lang])\n",
    "        \n",
    "        return max(self.log_pred_posterior_pr_dict, key=self.log_pred_posterior_pr_dict.get)\n",
    "\n",
    "    def get_prior_pr_dict(self):\n",
    "        return self.prior_pr_dict\n",
    "\n",
    "    def get_conditional_pr_dict(self):\n",
    "        return self.conditional_pr_dict\n",
    "\n",
    "    def get_log_pred_conditional_pr_dict(self):\n",
    "        return self.log_pred_conditional_pr_dict\n",
    "\n",
    "    def get_log_pred_posterior_pr_dict(self):\n",
    "        return self.log_pred_posterior_pr_dict"
   ]
  },
  {
   "cell_type": "markdown",
   "metadata": {},
   "source": [
    "### Problem 1"
   ]
  },
  {
   "cell_type": "code",
   "execution_count": 3,
   "metadata": {},
   "outputs": [],
   "source": [
    "def bagofchars(file_list=[]):\n",
    "    acceptable_chars = list(string.ascii_lowercase)\n",
    "    acceptable_chars.extend(\" \")\n",
    "    data = []\n",
    "    \n",
    "    for i in range(0,len(file_list)):\n",
    "        char_list =[]\n",
    "        with open('Data/'+file_list[i]+'.txt', 'r') as file:\n",
    "            file_contents = file.read()\n",
    "            char_list = list(file_contents)\n",
    "        data.append(dict())\n",
    "        data[i]['x'] = [char for char in char_list if char in acceptable_chars]\n",
    "        data[i]['y'] = file_list[i][0]\n",
    "        data[i]['numchars'] = len(data[i]['x'])\n",
    "    return data"
   ]
  },
  {
   "cell_type": "code",
   "execution_count": 4,
   "metadata": {},
   "outputs": [],
   "source": [
    "train_file_list = ['e0','e1','e2','e3','e4','e5','e6','e7','e8','e9',\n",
    "                      's0','s1','s2','s3','s4','s5','s6','s7','s8','s9',\n",
    "                      'j0','j1','j2','j3','j4','j5','j6','j7','j8','j9']\n",
    "train_data = bagofchars(train_file_list)"
   ]
  },
  {
   "cell_type": "code",
   "execution_count": 5,
   "metadata": {},
   "outputs": [],
   "source": [
    "characters = list(string.ascii_lowercase)\n",
    "characters.extend(\" \")\n",
    "languages = ['e','s','j']"
   ]
  },
  {
   "cell_type": "code",
   "execution_count": 6,
   "metadata": {},
   "outputs": [],
   "source": [
    "model = NaiveBayesClassifier()\n",
    "model.train(train_data, characters, languages, alpha=.5, K_L=3, K_S=27)"
   ]
  },
  {
   "cell_type": "code",
   "execution_count": 7,
   "metadata": {},
   "outputs": [
    {
     "name": "stdout",
     "output_type": "stream",
     "text": [
      "p_hat(y=language): {'e': 0.3333333333333333, 's': 0.3333333333333333, 'j': 0.3333333333333333}\n"
     ]
    }
   ],
   "source": [
    "print(\"p_hat(y=language):\", model.get_prior_pr_dict())"
   ]
  },
  {
   "cell_type": "markdown",
   "metadata": {},
   "source": [
    "### Problem 2"
   ]
  },
  {
   "cell_type": "code",
   "execution_count": 8,
   "metadata": {},
   "outputs": [
    {
     "name": "stdout",
     "output_type": "stream",
     "text": [
      "θ_e:\n"
     ]
    },
    {
     "data": {
      "text/plain": [
       "{'a': 0.0601685114819098,\n",
       " 'b': 0.011134974392863043,\n",
       " 'c': 0.021509995043779945,\n",
       " 'd': 0.021972575582355856,\n",
       " 'e': 0.1053692383941847,\n",
       " 'f': 0.018932760614571286,\n",
       " 'g': 0.017478936064761277,\n",
       " 'h': 0.047216256401784236,\n",
       " 'i': 0.055410540227986124,\n",
       " 'j': 0.001420783082768875,\n",
       " 'k': 0.0037336857756484387,\n",
       " 'l': 0.028977366595076822,\n",
       " 'm': 0.020518751032545846,\n",
       " 'n': 0.057921691723112505,\n",
       " 'o': 0.06446390219725756,\n",
       " 'p': 0.01675202378985627,\n",
       " 'q': 0.0005617049396993227,\n",
       " 'r': 0.053824549810011564,\n",
       " 's': 0.06618205848339666,\n",
       " 't': 0.08012555757475633,\n",
       " 'u': 0.026664463902197257,\n",
       " 'v': 0.009284652238559392,\n",
       " 'w': 0.015496448042293078,\n",
       " 'x': 0.001156451346439782,\n",
       " 'y': 0.013844374690236246,\n",
       " 'z': 0.0006277878737815959,\n",
       " ' ': 0.1792499586981662}"
      ]
     },
     "execution_count": 8,
     "metadata": {},
     "output_type": "execute_result"
    }
   ],
   "source": [
    "print(\"θ_e:\")\n",
    "model.get_conditional_pr_dict()['e']"
   ]
  },
  {
   "cell_type": "markdown",
   "metadata": {},
   "source": [
    "### Problem 3"
   ]
  },
  {
   "cell_type": "code",
   "execution_count": 9,
   "metadata": {},
   "outputs": [
    {
     "name": "stdout",
     "output_type": "stream",
     "text": [
      "θ_j:\n"
     ]
    },
    {
     "data": {
      "text/plain": [
       "{'a': 0.1317656102589189,\n",
       " 'b': 0.010866906600510151,\n",
       " 'c': 0.005485866033054963,\n",
       " 'd': 0.01722631818022992,\n",
       " 'e': 0.06020475907613823,\n",
       " 'f': 0.003878542227191726,\n",
       " 'g': 0.014011670568503443,\n",
       " 'h': 0.03176211607673224,\n",
       " 'i': 0.09703343932352633,\n",
       " 'j': 0.0023411020650616725,\n",
       " 'k': 0.05740941332681086,\n",
       " 'l': 0.001432614696530277,\n",
       " 'm': 0.03979873510604843,\n",
       " 'n': 0.05671057688947902,\n",
       " 'o': 0.09116321324993885,\n",
       " 'p': 0.0008735455466648031,\n",
       " 'q': 0.00010482546559977637,\n",
       " 'r': 0.04280373178657535,\n",
       " 's': 0.0421747789929767,\n",
       " 't': 0.056990111464411755,\n",
       " 'u': 0.07061742199238269,\n",
       " 'v': 0.0002445927530661449,\n",
       " 'w': 0.01974212935462455,\n",
       " 'x': 3.4941821866592126e-05,\n",
       " 'y': 0.01415143785596981,\n",
       " 'z': 0.00772214263251686,\n",
       " ' ': 0.12344945665466997}"
      ]
     },
     "execution_count": 9,
     "metadata": {},
     "output_type": "execute_result"
    }
   ],
   "source": [
    "print(\"θ_j:\")\n",
    "torch_model.get_conditional_pr_dict()['j']"
   ]
  },
  {
   "cell_type": "code",
   "execution_count": 10,
   "metadata": {},
   "outputs": [
    {
     "name": "stdout",
     "output_type": "stream",
     "text": [
      "θ_s:\n"
     ]
    },
    {
     "data": {
      "text/plain": [
       "{'a': 0.10456045141993771,\n",
       " 'b': 0.008232863618143134,\n",
       " 'c': 0.03752582405722919,\n",
       " 'd': 0.039745922111559924,\n",
       " 'e': 0.1138108599796491,\n",
       " 'f': 0.00860287996053159,\n",
       " 'g': 0.0071844839813758445,\n",
       " 'h': 0.0045327001942585795,\n",
       " 'i': 0.049859702136844375,\n",
       " 'j': 0.006629459467793161,\n",
       " 'k': 0.0002775122567913416,\n",
       " 'l': 0.052943171656748174,\n",
       " 'm': 0.02580863988159477,\n",
       " 'n': 0.054176559464709693,\n",
       " 'o': 0.07249236841293824,\n",
       " 'p': 0.02426690512164287,\n",
       " 'q': 0.007677839104560451,\n",
       " 'r': 0.05929511886774999,\n",
       " 's': 0.06577040485954797,\n",
       " 't': 0.03561407295488884,\n",
       " 'u': 0.03370232185254849,\n",
       " 'v': 0.00588942678301625,\n",
       " 'w': 9.250408559711388e-05,\n",
       " 'x': 0.0024976103111220747,\n",
       " 'y': 0.007862847275754679,\n",
       " 'z': 0.0026826184823163022,\n",
       " ' ': 0.16826493170115014}"
      ]
     },
     "execution_count": 10,
     "metadata": {},
     "output_type": "execute_result"
    }
   ],
   "source": [
    "print(\"θ_s:\")\n",
    "model.get_conditional_pr_dict()['s']"
   ]
  },
  {
   "cell_type": "markdown",
   "metadata": {},
   "source": [
    "### Problem 4"
   ]
  },
  {
   "cell_type": "code",
   "execution_count": 11,
   "metadata": {},
   "outputs": [],
   "source": [
    "def bagOfCharsCount(file):\n",
    "    accepted_chars = list(string.ascii_lowercase)\n",
    "    accepted_chars.extend(\" \")\n",
    "    bag_of_char_count = dict()\n",
    "    \n",
    "    char_list =[]\n",
    "    with open('Data/'+file+'.txt', 'r') as file:\n",
    "        file_contents = file.read()\n",
    "        char_list = list(file_contents)\n",
    "    num_chars = Counter(char_list)\n",
    "    for char in accepted_chars:\n",
    "        bag_of_char_count[char] = num_chars[char]\n",
    "    \n",
    "    return bag_of_char_count"
   ]
  },
  {
   "cell_type": "code",
   "execution_count": 12,
   "metadata": {},
   "outputs": [
    {
     "data": {
      "text/plain": [
       "{'a': 164,\n",
       " 'b': 32,\n",
       " 'c': 53,\n",
       " 'd': 57,\n",
       " 'e': 311,\n",
       " 'f': 55,\n",
       " 'g': 51,\n",
       " 'h': 140,\n",
       " 'i': 140,\n",
       " 'j': 3,\n",
       " 'k': 6,\n",
       " 'l': 85,\n",
       " 'm': 64,\n",
       " 'n': 139,\n",
       " 'o': 182,\n",
       " 'p': 53,\n",
       " 'q': 3,\n",
       " 'r': 141,\n",
       " 's': 186,\n",
       " 't': 225,\n",
       " 'u': 65,\n",
       " 'v': 31,\n",
       " 'w': 47,\n",
       " 'x': 4,\n",
       " 'y': 38,\n",
       " 'z': 2,\n",
       " ' ': 498}"
      ]
     },
     "execution_count": 12,
     "metadata": {},
     "output_type": "execute_result"
    }
   ],
   "source": [
    "e10_bagOfCharsCount = bagOfCharsCount('e10')\n",
    "e10_bagOfCharsCount"
   ]
  },
  {
   "cell_type": "markdown",
   "metadata": {},
   "source": [
    "### Problem 5"
   ]
  },
  {
   "cell_type": "code",
   "execution_count": 13,
   "metadata": {},
   "outputs": [
    {
     "name": "stdout",
     "output_type": "stream",
     "text": [
      "Predicted Conditional Probabilities of x:\n"
     ]
    },
    {
     "data": {
      "text/plain": [
       "{'e': -7841.865447060635, 's': -8467.282044010557, 'j': -8771.433079075032}"
      ]
     },
     "execution_count": 13,
     "metadata": {},
     "output_type": "execute_result"
    }
   ],
   "source": [
    "print(\"Predicted Conditional Probabilities of x:\")\n",
    "model.pred(e10_bagOfCharsCount)\n",
    "model.get_log_pred_conditional_pr_dict()"
   ]
  },
  {
   "cell_type": "markdown",
   "metadata": {},
   "source": [
    "### Problem 6"
   ]
  },
  {
   "cell_type": "code",
   "execution_count": 14,
   "metadata": {},
   "outputs": [
    {
     "name": "stdout",
     "output_type": "stream",
     "text": [
      "Predicted Posterior Probabilites of x:\n"
     ]
    },
    {
     "data": {
      "text/plain": [
       "{'e': -7842.964059349303, 's': -8468.380656299225, 'j': -8772.5316913637}"
      ]
     },
     "execution_count": 14,
     "metadata": {},
     "output_type": "execute_result"
    }
   ],
   "source": [
    "print(\"Predicted Posterior Probabilites of x:\")\n",
    "model.get_log_pred_posterior_pr_dict()"
   ]
  },
  {
   "cell_type": "code",
   "execution_count": 15,
   "metadata": {},
   "outputs": [
    {
     "name": "stdout",
     "output_type": "stream",
     "text": [
      "Predicted Class Label of x: e\n"
     ]
    }
   ],
   "source": [
    "print('Predicted Class Label of x:', model.pred(e10_bagOfCharsCount))"
   ]
  },
  {
   "cell_type": "markdown",
   "metadata": {},
   "source": [
    "### Problem 7"
   ]
  },
  {
   "cell_type": "code",
   "execution_count": 16,
   "metadata": {},
   "outputs": [
    {
     "name": "stdout",
     "output_type": "stream",
     "text": [
      "Prediction for e10: e\n",
      "Prediction for e11: e\n",
      "Prediction for e12: e\n",
      "Prediction for e13: e\n",
      "Prediction for e14: e\n",
      "Prediction for e15: e\n",
      "Prediction for e16: e\n",
      "Prediction for e17: e\n",
      "Prediction for e18: e\n",
      "Prediction for e19: e\n",
      "Prediction for s10: s\n",
      "Prediction for s11: s\n",
      "Prediction for s12: s\n",
      "Prediction for s13: s\n",
      "Prediction for s14: s\n",
      "Prediction for s15: s\n",
      "Prediction for s16: s\n",
      "Prediction for s17: s\n",
      "Prediction for s18: s\n",
      "Prediction for s19: s\n",
      "Prediction for j10: j\n",
      "Prediction for j11: j\n",
      "Prediction for j12: j\n",
      "Prediction for j13: j\n",
      "Prediction for j14: j\n",
      "Prediction for j15: j\n",
      "Prediction for j16: j\n",
      "Prediction for j17: j\n",
      "Prediction for j18: j\n",
      "Prediction for j19: j\n"
     ]
    }
   ],
   "source": [
    "test_file_list = ['e10','e11','e12','e13','e14','e15','e16','e17','e18','e19',\n",
    "                  's10','s11','s12','s13','s14','s15','s16','s17','s18','s19',\n",
    "                  'j10','j11','j12','j13','j14','j15','j16','j17','j18','j19']\n",
    "\n",
    "for file in test_file_list:\n",
    "    bagOfCharactersCount = bagOfCharsCount(file)\n",
    "    print(\"Prediction for \", file,\": \", model.pred(bagOfCharactersCount),sep=\"\")"
   ]
  },
  {
   "cell_type": "markdown",
   "metadata": {},
   "source": [
    "### Problem 8"
   ]
  },
  {
   "cell_type": "code",
   "execution_count": 17,
   "metadata": {},
   "outputs": [
    {
     "name": "stdout",
     "output_type": "stream",
     "text": [
      "Shuffled text file created: Data/j15_shuffled.txt\n"
     ]
    }
   ],
   "source": [
    "def shuffle_text(file_path):\n",
    "    with open(file_path, 'r') as file:\n",
    "        lines = file.readlines()\n",
    "    \n",
    "    shuffled_lines = []\n",
    "    for line in lines:\n",
    "        # Split each line into printable characters and non-printable characters\n",
    "        printable_chars = [char for char in line if char.isprintable()]\n",
    "        non_printable_chars = [char for char in line if not char.isprintable()]\n",
    "\n",
    "        # Shuffle only the printable characters\n",
    "        random.shuffle(printable_chars)\n",
    "\n",
    "        # Reconstruct the line with the shuffled printable characters and original non-printable characters\n",
    "        shuffled_line = ''.join(printable_chars) + ''.join(non_printable_chars)\n",
    "        shuffled_lines.append(shuffled_line)\n",
    "\n",
    "    # Write the shuffled text to a new file\n",
    "    shuffled_file_path = file_path.replace('.txt', '_shuffled.txt')\n",
    "    with open(shuffled_file_path, 'w') as shuffled_file:\n",
    "        shuffled_file.write(''.join(shuffled_lines))\n",
    "\n",
    "    return shuffled_file_path\n",
    "\n",
    "# Replace 'your_file.txt' with the path to your text file\n",
    "original_file_path = 'Data/j15.txt'\n",
    "shuffled_file_path = shuffle_text(original_file_path)\n",
    "print(f'Shuffled text file created: {shuffled_file_path}')"
   ]
  },
  {
   "cell_type": "code",
   "execution_count": 18,
   "metadata": {},
   "outputs": [
    {
     "name": "stdout",
     "output_type": "stream",
     "text": [
      "File character counts match!\n"
     ]
    }
   ],
   "source": [
    "j15_shuffled_bagOfCharactersCount = bagOfCharsCount('j15_shuffled')\n",
    "j15_bagOfCharactersCount = bagOfCharsCount('j15')\n",
    "entered = False\n",
    "for char in list(j15_bagOfCharactersCount.keys()):\n",
    "    if j15_shuffled_bagOfCharactersCount[char] != j15_bagOfCharactersCount[char]:\n",
    "        print(\"ERROR: character counts between shuffled and not shuffled files don't match.\")\n",
    "        entered = True\n",
    "if entered==False:\n",
    "    print(\"File character counts match!\")"
   ]
  },
  {
   "cell_type": "code",
   "execution_count": 19,
   "metadata": {},
   "outputs": [
    {
     "name": "stdout",
     "output_type": "stream",
     "text": [
      "Prediction for j15: j\n",
      "Prediction for j15_shuffled: j\n"
     ]
    }
   ],
   "source": [
    "print(\"Prediction for j15: \", model.pred(j15_bagOfCharactersCount),sep=\"\")\n",
    "print(\"Prediction for j15_shuffled: \", model.pred(j15_shuffled_bagOfCharactersCount),sep=\"\")"
   ]
  },
  {
   "cell_type": "code",
   "execution_count": 20,
   "metadata": {},
   "outputs": [
    {
     "name": "stdout",
     "output_type": "stream",
     "text": [
      "Predicted Posterior Probabilites of j15:\n"
     ]
    },
    {
     "data": {
      "text/plain": [
       "{'e': -3855.3547243138123, 's': -4211.1837184925525, 'j': -3539.5781224678676}"
      ]
     },
     "execution_count": 20,
     "metadata": {},
     "output_type": "execute_result"
    }
   ],
   "source": [
    "model.pred(j15_bagOfCharactersCount)\n",
    "print(\"Predicted Posterior Probabilites of j15:\")\n",
    "model.get_log_pred_posterior_pr_dict()"
   ]
  },
  {
   "cell_type": "code",
   "execution_count": 21,
   "metadata": {},
   "outputs": [
    {
     "name": "stdout",
     "output_type": "stream",
     "text": [
      "Predicted Posterior Probabilites of j15_shuffled:\n"
     ]
    },
    {
     "data": {
      "text/plain": [
       "{'e': -3855.3547243138123, 's': -4211.1837184925525, 'j': -3539.5781224678676}"
      ]
     },
     "execution_count": 21,
     "metadata": {},
     "output_type": "execute_result"
    }
   ],
   "source": [
    "model.pred(j15_shuffled_bagOfCharactersCount)\n",
    "print(\"Predicted Posterior Probabilites of j15_shuffled:\")\n",
    "model.get_log_pred_posterior_pr_dict()"
   ]
  },
  {
   "cell_type": "markdown",
   "metadata": {},
   "source": [
    "## Section 4 - Simple Feed-Forward Network"
   ]
  },
  {
   "cell_type": "markdown",
   "metadata": {},
   "source": [
    "### Problem 2 - Custom Network"
   ]
  },
  {
   "cell_type": "code",
   "execution_count": 22,
   "metadata": {},
   "outputs": [
    {
     "name": "stdout",
     "output_type": "stream",
     "text": [
      "Requirement already satisfied: torch in c:\\users\\owner\\anaconda3\\lib\\site-packages (2.1.0)\n",
      "Requirement already satisfied: torchvision in c:\\users\\owner\\anaconda3\\lib\\site-packages (0.16.0)\n",
      "Requirement already satisfied: filelock in c:\\users\\owner\\anaconda3\\lib\\site-packages (from torch) (3.9.0)\n",
      "Requirement already satisfied: typing-extensions in c:\\users\\owner\\anaconda3\\lib\\site-packages (from torch) (4.7.1)\n",
      "Requirement already satisfied: sympy in c:\\users\\owner\\anaconda3\\lib\\site-packages (from torch) (1.11.1)\n",
      "Requirement already satisfied: networkx in c:\\users\\owner\\anaconda3\\lib\\site-packages (from torch) (3.1)\n",
      "Requirement already satisfied: jinja2 in c:\\users\\owner\\anaconda3\\lib\\site-packages (from torch) (3.1.2)\n",
      "Requirement already satisfied: fsspec in c:\\users\\owner\\anaconda3\\lib\\site-packages (from torch) (2023.3.0)\n",
      "Requirement already satisfied: numpy in c:\\users\\owner\\anaconda3\\lib\\site-packages (from torchvision) (1.24.3)\n",
      "Requirement already satisfied: requests in c:\\users\\owner\\anaconda3\\lib\\site-packages (from torchvision) (2.31.0)\n",
      "Requirement already satisfied: pillow!=8.3.*,>=5.3.0 in c:\\users\\owner\\anaconda3\\lib\\site-packages (from torchvision) (9.4.0)\n",
      "Requirement already satisfied: MarkupSafe>=2.0 in c:\\users\\owner\\anaconda3\\lib\\site-packages (from jinja2->torch) (2.1.1)\n",
      "Requirement already satisfied: charset-normalizer<4,>=2 in c:\\users\\owner\\anaconda3\\lib\\site-packages (from requests->torchvision) (2.0.4)\n",
      "Requirement already satisfied: idna<4,>=2.5 in c:\\users\\owner\\anaconda3\\lib\\site-packages (from requests->torchvision) (3.4)\n",
      "Requirement already satisfied: urllib3<3,>=1.21.1 in c:\\users\\owner\\anaconda3\\lib\\site-packages (from requests->torchvision) (1.26.16)\n",
      "Requirement already satisfied: certifi>=2017.4.17 in c:\\users\\owner\\anaconda3\\lib\\site-packages (from requests->torchvision) (2023.7.22)\n",
      "Requirement already satisfied: mpmath>=0.19 in c:\\users\\owner\\anaconda3\\lib\\site-packages (from sympy->torch) (1.3.0)\n",
      "Note: you may need to restart the kernel to use updated packages.\n"
     ]
    }
   ],
   "source": [
    "pip install torch torchvision"
   ]
  },
  {
   "cell_type": "code",
   "execution_count": 23,
   "metadata": {},
   "outputs": [],
   "source": [
    "import numpy as np\n",
    "import torch\n",
    "import torchvision\n",
    "import torch.nn as nn\n",
    "import torch.optim as optim\n",
    "import matplotlib.pyplot as plt"
   ]
  },
  {
   "cell_type": "code",
   "execution_count": 27,
   "metadata": {},
   "outputs": [],
   "source": [
    "class CustomNN():\n",
    "    def __init__(self, lr = 0.03, k = 10, d = 784, d1 = 300):\n",
    "        self.lr = lr\n",
    "        self.n_y = k\n",
    "        self.n_X = d\n",
    "        self.n_h = d1\n",
    "        self.init_weights()\n",
    "\n",
    "    def init_weights(self, method = 'range'):\n",
    "        self.W1 = np.random.uniform(-1, 1, (self.n_h, self.n_X))\n",
    "        self.W2 = np.random.uniform(-1, 1, (self.n_y, self.n_h))\n",
    "\n",
    "    def sigmoid(self, value):\n",
    "        return 1 / (1 + np.exp(-value))\n",
    "    \n",
    "    def delta_sigmoid(self, value):\n",
    "        return self.sigmoid(value) * (1 - self.sigmoid(value))\n",
    "    \n",
    "    def loss_func(self, y_pred, y_label):\n",
    "        return -np.sum(np.multiply(y_label, np.log(y_pred)))\n",
    "\n",
    "    def train(self, X_train, y_train):\n",
    "        batch_cost = 0\n",
    "        for X, y in zip(X_train, y_train.T):\n",
    "            self.X = np.reshape(X, (1, self.n_X))\n",
    "            self.y = np.reshape(y, (self.n_y, 1))\n",
    "            self.m = self.X.shape[0]\n",
    "            \n",
    "            z1 = np.matmul(self.W1, self.X.T)\n",
    "            activation = self.sigmoid(z1)\n",
    "            z2 = np.matmul(self.W2, activation)\n",
    "            func = np.exp(z2) / np.sum(np.exp(z2), axis=0)\n",
    "\n",
    "            batch_cost += self.loss_func(func, self.y)\n",
    "\n",
    "            z2_d = func - self.y\n",
    "            W2_d = (1/self.m) * np.matmul(z2_d, activation.T)\n",
    "\n",
    "            self.W2 = self.W2 - self.lr * W2_d\n",
    "\n",
    "            activation_d = np.matmul(self.W2.T, z2_d)\n",
    "            z1_d = activation_d * self.delta_sigmoid(z1)\n",
    "            W1_d = (1./self.m) * np.matmul(z1_d, self.X)\n",
    "\n",
    "            self.W1 = self.W1 - self.lr * W1_d\n",
    "        return batch_cost\n",
    "    \n",
    "    def predict(self, X_test):\n",
    "        h1 = self.sigmoid(np.matmul(self.W1, X_test.T))\n",
    "        z2 = np.matmul(self.W2, h1)\n",
    "        g = np.exp(z2) / np.sum(np.exp(z2), axis=0)\n",
    "        return np.argmax(g, axis=0)\n",
    "    \n",
    "    def test_error(self, X_test, y_test):\n",
    "        y_pred = self.predict(X_test)\n",
    "        correct = np.count_nonzero(y_pred == y_test)\n",
    "        return 1 - correct/len(y_test)"
   ]
  },
  {
   "cell_type": "code",
   "execution_count": 34,
   "metadata": {},
   "outputs": [
    {
     "name": "stdout",
     "output_type": "stream",
     "text": [
      "Epoch 0, Step 1, Cost = 262.60829882505936\n",
      "Epoch 0, Step 100, Cost = 26.534166975952346\n",
      "Epoch 0, Step 200, Cost = 13.173385712860318\n",
      "Epoch 0, Step 300, Cost = 11.988756442919911\n",
      "Epoch 0, Step 400, Cost = 10.71209554711059\n",
      "Epoch 0, Step 500, Cost = 21.044437207217133\n",
      "Epoch 0, Step 600, Cost = 5.312362495494812\n",
      "Epoch 0, Step 700, Cost = 12.370556394621115\n",
      "Epoch 0, Step 800, Cost = 17.513297724189695\n",
      "Epoch 0, Step 900, Cost = 31.9177050113891\n",
      "Epoch 0, Step 1000, Cost = 9.961321519349845\n",
      "Epoch 0, Step 1100, Cost = 29.77203705258521\n",
      "Epoch 0, Step 1200, Cost = 29.617188179477477\n",
      "Epoch 0, Step 1300, Cost = 28.354735375470742\n",
      "Epoch 0, Step 1400, Cost = 13.083866341090578\n",
      "Epoch 0, Step 1500, Cost = 12.705706979741677\n",
      "Epoch 0, Step 1600, Cost = 12.011982555551857\n",
      "Epoch 0, Step 1700, Cost = 19.665747870334698\n",
      "Epoch 0, Step 1800, Cost = 4.255089777700337\n",
      "Epoch 1, Step 25, Cost = 0.5779310330638759\n",
      "Epoch 1, Step 125, Cost = 3.445266431442266\n",
      "Epoch 1, Step 225, Cost = 21.24900395191293\n",
      "Epoch 1, Step 325, Cost = 0.2202126017634336\n",
      "Epoch 1, Step 425, Cost = 6.672598980118391\n",
      "Epoch 1, Step 525, Cost = 11.202532289257647\n",
      "Epoch 1, Step 625, Cost = 1.0684371516872069\n",
      "Epoch 1, Step 725, Cost = 0.8336872667781072\n",
      "Epoch 1, Step 825, Cost = 2.95875473205466\n",
      "Epoch 1, Step 925, Cost = 5.167956040466593\n",
      "Epoch 1, Step 1025, Cost = 17.220346524894914\n",
      "Epoch 1, Step 1125, Cost = 4.15461916690564\n",
      "Epoch 1, Step 1225, Cost = 1.1413927199414802\n",
      "Epoch 1, Step 1325, Cost = 6.616911392050132\n",
      "Epoch 1, Step 1425, Cost = 5.662738994763394\n",
      "Epoch 1, Step 1525, Cost = 4.337284757155878\n",
      "Epoch 1, Step 1625, Cost = 1.7402002450810699\n",
      "Epoch 1, Step 1725, Cost = 13.632761987580267\n",
      "Epoch 1, Step 1825, Cost = 0.24422482962869432\n",
      "Epoch 2, Step 50, Cost = 12.169245513119602\n",
      "Epoch 2, Step 150, Cost = 19.905958952834933\n",
      "Epoch 2, Step 250, Cost = 5.006556210071981\n",
      "Epoch 2, Step 350, Cost = 4.268809195767892\n",
      "Epoch 2, Step 450, Cost = 0.6751900118172226\n",
      "Epoch 2, Step 550, Cost = 4.162642380862093\n",
      "Epoch 2, Step 650, Cost = 0.9018175457732514\n",
      "Epoch 2, Step 750, Cost = 5.93791405591957\n",
      "Epoch 2, Step 850, Cost = 5.0574116671878775\n",
      "Epoch 2, Step 950, Cost = 1.2471887137694193\n",
      "Epoch 2, Step 1050, Cost = 11.007381859452027\n",
      "Epoch 2, Step 1150, Cost = 1.687463000043172\n",
      "Epoch 2, Step 1250, Cost = 2.5160161594340584\n",
      "Epoch 2, Step 1350, Cost = 2.1177257321020937\n",
      "Epoch 2, Step 1450, Cost = 0.8675051551122696\n",
      "Epoch 2, Step 1550, Cost = 4.160397441171465\n",
      "Epoch 2, Step 1650, Cost = 9.499473078197903\n",
      "Epoch 2, Step 1750, Cost = 4.632761543956932\n",
      "Epoch 2, Step 1850, Cost = 6.7174465626075115\n",
      "0.9263\n"
     ]
    },
    {
     "data": {
      "image/png": "[encoded data removed]",
      "text/plain": [
       "<Figure size 640x480 with 1 Axes>"
      ]
     },
     "metadata": {},
     "output_type": "display_data"
    }
   ],
   "source": [
    "def NNClassifier():\n",
    "    train_batch_size = 32\n",
    "    train_loader = torch.utils.data.DataLoader(torchvision.datasets.MNIST(root='./Data', train=True, download=True, transform=torchvision.transforms.Compose([\n",
    "                               torchvision.transforms.ToTensor(), torch.flatten])), batch_size=train_batch_size, shuffle=True)\n",
    "    test_loader = torch.utils.data.DataLoader(torchvision.datasets.MNIST(root='./Data', train=False, download=True, transform=torchvision.transforms.Compose([\n",
    "                               torchvision.transforms.ToTensor(), torch.flatten])), batch_size=10000, shuffle=True)\n",
    "\n",
    "    epochs = 3\n",
    "    custon_model = CustomNN()\n",
    "    learning_curve = {}\n",
    "    iterations = 1\n",
    "\n",
    "    for i in range(epochs):\n",
    "        for step, (X_train, y_train) in enumerate(train_loader):\n",
    "            y_train = y_train.reshape(1, y_train.shape[0])\n",
    "            y_train = np.eye(10)[y_train].T.reshape(10, y_train.shape[1])\n",
    "\n",
    "            cost = custon_model.train(np.array(X_train), np.array(y_train))\n",
    "\n",
    "            if iterations%100 == 0 or iterations == 1: \n",
    "                print(f'Epoch {i}, Step {step+1}, Cost = {cost}')\n",
    "                for idx, (X_test, y_test) in enumerate(test_loader):\n",
    "                    learning_curve[iterations] = 1 - custon_model.test_error(np.array(X_test), np.array(y_test))\n",
    "            iterations += 1\n",
    "\n",
    "    accuracy = []\n",
    "    for idx, (X_test, y_test) in enumerate(test_loader):\n",
    "        accuracy.append(1 - custon_model.test_error(np.array(X_test), np.array(y_test)))\n",
    "\n",
    "    print(np.mean(accuracy))\n",
    "\n",
    "    plt.plot(learning_curve.keys(), learning_curve.values())\n",
    "    plt.xlabel(\"Iterations\")\n",
    "    plt.ylabel(\"Accuracy\")\n",
    "    plt.title(\"Custom NN Learning Curve - d1=300\")\n",
    "    plt.savefig('4.2-300.png')\n",
    "\n",
    "NNClassifier()"
   ]
  },
  {
   "cell_type": "markdown",
   "metadata": {},
   "source": [
    "### Problem 3 (No Weight Initialization) & Problem 4 (Zero Weights and Uniform Weights)"
   ]
  },
  {
   "cell_type": "code",
   "execution_count": 33,
   "metadata": {},
   "outputs": [
    {
     "name": "stdout",
     "output_type": "stream",
     "text": [
      "Epoch -1, Test Error = 0.857\n",
      "Epoch 0, Test Error = 0.05269999999999997\n",
      "Epoch 1, Test Error = 0.04200000000000004\n",
      "Epoch 2, Test Error = 0.03749999999999998\n",
      "Epoch 3, Test Error = 0.037699999999999956\n",
      "Epoch 4, Test Error = 0.035699999999999954\n",
      "Epoch 5, Test Error = 0.03169999999999995\n",
      "Epoch 6, Test Error = 0.03369999999999995\n",
      "Epoch 7, Test Error = 0.02629999999999999\n",
      "Epoch 8, Test Error = 0.02639999999999998\n",
      "Epoch 9, Test Error = 0.02639999999999998\n"
     ]
    },
    {
     "data": {
      "image/png": "[encoded data removed]",
      "text/plain": [
       "<Figure size 640x480 with 1 Axes>"
      ]
     },
     "metadata": {},
     "output_type": "display_data"
    }
   ],
   "source": [
    "class TorchNN(nn.Module):\n",
    "    def __init__(self):\n",
    "        super().__init__()\n",
    "        self.layers = nn.Sequential(\n",
    "            nn.Linear(784, 300, bias=False),\n",
    "            nn.Sigmoid(),\n",
    "            nn.Linear(300, 10, bias=False),\n",
    "            nn.Softmax(dim=1)\n",
    "        )\n",
    "        self.init_weights()\n",
    "    \n",
    "    def init_weights(self):\n",
    "        for name, param in self.named_parameters():\n",
    "            nn.init.uniform_(param, -1, 1) #Uniform Weights\n",
    "            # nn.init.zeros_(param) #Zero Weights\n",
    "\n",
    "    def forward(self, x):\n",
    "        return self.layers(x)\n",
    "    \n",
    "train_batch_size = 32\n",
    "train_loader = torch.utils.data.DataLoader(torchvision.datasets.MNIST(root='./Data', train=True, download=True, transform=torchvision.transforms.Compose([\n",
    "                               torchvision.transforms.ToTensor(), torch.flatten])), batch_size=train_batch_size, shuffle=True)\n",
    "test_loader = torch.utils.data.DataLoader(torchvision.datasets.MNIST(root='./Data', train=False, download=True, transform=torchvision.transforms.Compose([\n",
    "                               torchvision.transforms.ToTensor(), torch.flatten])), batch_size=10000, shuffle=True)\n",
    "\n",
    "def test_error(dataloader, torch_model):\n",
    "    size = len(dataloader.dataset)\n",
    "    correct = 0\n",
    "\n",
    "    with torch.no_grad():\n",
    "        for X, y in dataloader:\n",
    "            pred = torch_model(X)\n",
    "            correct += (pred.argmax(1) == y).type(torch.float).sum().item()\n",
    "\n",
    "    correct /= size\n",
    "    return 1 - correct\n",
    "\n",
    "torch_model = TorchNN()\n",
    "loss_func = nn.CrossEntropyLoss()\n",
    "optimizer = optim.AdamW(torch_model.parameters(), lr=0.005)\n",
    "\n",
    "iterations = 1\n",
    "epochs = 10\n",
    "learning_curve = {}\n",
    "\n",
    "print(f'Epoch {-1}, Test Error = {test_error(test_loader, torch_model)}')\n",
    "for i in range(epochs):\n",
    "    size = len(train_loader.dataset)\n",
    "    for batch, (X, y) in enumerate(train_loader):\n",
    "        pred = torch_model(X)\n",
    "        loss = loss_func(pred, y)\n",
    "\n",
    "        loss.backward()\n",
    "        optimizer.step()\n",
    "        optimizer.zero_grad()\n",
    "\n",
    "        if batch % 100 == 0:\n",
    "            loss, current = loss.item(), (batch + 1) * len(X)\n",
    "        \n",
    "        if iterations%100 == 0 or iterations == 1:\n",
    "            learning_curve[iterations] = 1 - test_error(test_loader, torch_model)\n",
    "        iterations += 1\n",
    "    print(f'Epoch {i}, Test Error = {test_error(test_loader, torch_model)}')\n",
    "\n",
    "plt.plot(learning_curve.keys(), learning_curve.values())\n",
    "plt.xlabel(\"Iterations\")\n",
    "plt.ylabel(\"Accuracy\")\n",
    "plt.title(\"TorchNN Learning Curve with Uniform Weights - d1=300\")\n",
    "plt.savefig('4.4-300-UniformWeight.png')"
   ]
  }
 ],
 "metadata": {
  "kernelspec": {
   "display_name": "base",
   "language": "python",
   "name": "python3"
  },
  "language_info": {
   "codemirror_mode": {
    "name": "ipython",
    "version": 3
   },
   "file_extension": ".py",
   "mimetype": "text/x-python",
   "name": "python",
   "nbconvert_exporter": "python",
   "pygments_lexer": "ipython3",
   "version": "3.11.4"
  }
 },
 "nbformat": 4,
 "nbformat_minor": 2
}
